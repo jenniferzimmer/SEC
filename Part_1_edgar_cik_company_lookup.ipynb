{
  "cells": [
    {
      "cell_type": "code",
      "execution_count": null,
      "id": "5ffeb14b",
      "metadata": {
        "id": "5ffeb14b"
      },
      "outputs": [],
      "source": [
        "# script: edgar_cik_company_lookup\n",
        "# author: Jennifer Lammers Zimmer, jamm@umich.edu\n",
        "# last updated: 01/26/2023\n",
        "# This script uses the Edgar Python package to query the SEC database to find\n",
        "# CIKs for companies in a CSV file. A lookup on names is performed first to find\n",
        "# the official Edgar name and then Edgar is queried again to find the CIKs with the \n",
        "# official names. The final output is written to a CSV file and includes official \n",
        "# company name and CIK.\n",
        "\n",
        "#There are two parts to this file, PART A and PART B.\n",
        "#\n",
        "# Use PART A to look up SEC listed company names\n",
        "# Use PART A first if you need to verify company names with official SEC listing or \n",
        "# find company names that don't have a match. PART A will help you create a file for \n",
        "# review and will minimize errors in the CIK look up in PART B.\n",
        "\n",
        "# Use PART B to look up company CIKs\n",
        "# You can use PART B after you have cleaned up output from PART A or, you can dive right in\n",
        "# with your own file list and use PART B. STEP 3.1 which will perform a fuzzy company name\n",
        "# lookup and CIK lookup at the same time. \n",
        "\n",
        "# Edgar is a Python Package to query the SEC Edgar Database\n",
        "# https://pypi.org/project/edgar/\n",
        "# \n",
        "# \n"
      ]
    },
    {
      "cell_type": "code",
      "execution_count": null,
      "id": "b44eadef",
      "metadata": {
        "id": "b44eadef"
      },
      "outputs": [],
      "source": [
        "# Imports\n",
        "# Install and Call Edgar Package\n",
        "# note: pip install only needed if running on Colabs or you don't have Edgar installed\n",
        "# in your local environment already. \n",
        "\n",
        "!pip install Edgar\n",
        "\n",
        "from edgar import Edgar\n",
        "edgar = Edgar()\n",
        "import csv"
      ]
    },
    {
      "cell_type": "markdown",
      "source": [
        "PART A. Find correct company names at the SEC"
      ],
      "metadata": {
        "id": "siy3_mwYwwxE"
      },
      "id": "siy3_mwYwwxE"
    },
    {
      "cell_type": "code",
      "execution_count": null,
      "id": "7d1fc438",
      "metadata": {
        "id": "7d1fc438"
      },
      "outputs": [],
      "source": [
        "# PART A. STEP 1.\n",
        "# CREATE LIST OF COMPANY NAMES FROM CSV\n",
        "# Read in companies from a csv file to create a list of lists. Each list will contain one company name.\n",
        "# If running on Colabs, you will need to upload the file to the runtime to use it\n",
        "# or pull it from a Google Drive:\n",
        "# This section of code gets the data from my google drive\n",
        "#\n",
        "#from google.colab import drive\n",
        "#drive.mount('/content/drive')\n",
        "#f = open('/content/drive/MyDrive/Colab Notebooks/filename.csv', encoding=\"utf8\")\n",
        "#frs_text = f.read()\n",
        "#f.close()\n",
        "\n",
        "# Expected file layout is one column with header \n",
        "# and each company name on it's own row. Eg:\n",
        "#       Companyname\n",
        "#       Company1\n",
        "#       Company2\n",
        "#       Company3\n",
        "\n",
        "rows = []\n",
        "with open(\"Board_SEC_list_formerlegalnames.csv\", 'r') as file:\n",
        "    csvreader = csv.reader(file)\n",
        "    header = next(csvreader)\n",
        "    for row in csvreader:\n",
        "        rows.append(row)\n",
        "print(header)\n",
        "print(rows)"
      ]
    },
    {
      "cell_type": "code",
      "execution_count": null,
      "id": "cbcbdbb7",
      "metadata": {
        "id": "cbcbdbb7"
      },
      "outputs": [],
      "source": [
        "# # PART A. STEP 2\n",
        "# CREATE LIST OF COMPANY NAMES AS STRINGS\n",
        "# read through the list of lists companies (rows - this is from the csv read above), \n",
        "# take the first list in the rows list (subitem) and get the contents (item)\n",
        "# and append that company (item) to the new company_list as a string and not a list.\n",
        "# \n",
        "company_list = [item for sublist in rows for item in sublist]\n",
        "print(company_list)\n",
        "    "
      ]
    },
    {
      "cell_type": "code",
      "source": [
        "# # PART A. OPTIONAL FOR TESTING\n",
        "# check to make sure the file got entered into the list\n",
        "# len(company_list)"
      ],
      "metadata": {
        "id": "BXvmui5mey6y"
      },
      "id": "BXvmui5mey6y",
      "execution_count": null,
      "outputs": []
    },
    {
      "cell_type": "code",
      "source": [
        "## PART A. OPTIONAL - take a look at the list to make sure it looks like we think it should.\n",
        "# change the number in the brackets to see different forms. Create a range with a colon, e.g. [23:30]\n",
        "# NOTE: Python starts counting (indexing) with 0 so the first item in the list would be doclist[0].\n",
        "\n",
        "#print(company_list[700:])"
      ],
      "metadata": {
        "id": "JdUk4ny8hOue"
      },
      "id": "JdUk4ny8hOue",
      "execution_count": null,
      "outputs": []
    },
    {
      "cell_type": "code",
      "source": [
        "# # PART A. OPTIONAL - FOR TESTING\n",
        "# # PART A. STEP 2.1\n",
        "# CREATE A TEST COMPANY LIST\n",
        "# create a smaller subset to test with\n",
        "# change the input varible name in the FIND COMPANY NAME BY LOOKUP AT SEC 'for' statement (company_list)\n",
        "# to match the variable name set here (clist2) if using the test version\n",
        "\n",
        "#clist2 = company_list[700:]\n",
        "#print(clist2)"
      ],
      "metadata": {
        "id": "dVb9FS8NgNYD"
      },
      "id": "dVb9FS8NgNYD",
      "execution_count": null,
      "outputs": []
    },
    {
      "cell_type": "code",
      "execution_count": null,
      "id": "50c0fc83",
      "metadata": {
        "id": "50c0fc83"
      },
      "outputs": [],
      "source": [
        "# # PART A. STEP 3.\n",
        "# FIND EXACT COMPANY NAME BY LOOKUP AT SEC\n",
        "# use the .find_company_name method to search for exact company names in Edgar using the \n",
        "# list created in STEP 2 or STEP 2.2. \n",
        "# Writes out the original company name then it's match on Edgar to a CSV file, name_matches.csv, for review.\n",
        "# Returns a list, 'lookup_list', with the official company names from Edgar\n",
        "# for use with STEP 6. GET CIKs or TEST COMPANY LIST functions.\n",
        "\n",
        "# More information on the classes and methods for Edgar can be found at\n",
        "# https://pypi.org/project/edgar/\n",
        "#\n",
        "# The github repository for the code in the package is at \n",
        "# https://github.com/joeyism/py-edgar\n",
        "\n",
        "# Parameters you can change:\n",
        "#  field_names - you can relabel if you wish\n",
        "#  company_list - can be set to clist2 if using a smaller test set\n",
        "\n",
        "#lookup_list = [] # for testing\n",
        "field_names1 = ['my_company','SEC_company_match']\n",
        "\n",
        "\n",
        "with open('name_matches.csv', 'a') as csvfile:\n",
        "    writer = csv.writer(csvfile)\n",
        "    writer.writerow(field_names1)\n",
        "    for company in company_list:\n",
        "        compar = []  \n",
        "        compar.append(company)\n",
        "        possible_companies = edgar.find_company_name(company)\n",
        "        #print(company) ##for testing\n",
        "        #print(len(possible_companies)) ##for testing\n",
        "        if len(possible_companies) >= 1:\n",
        "            for item in possible_companies:\n",
        "                #print(item) ##for testing\n",
        "                #print(len(item)) ##for testing\n",
        "                compar.append(item)\n",
        "        elif len(possible_companies) < 1:\n",
        "            item2 = \"not found\"\n",
        "            compar.append(item2)\n",
        "      #print(compar) ## use for testing to view output\n",
        "        writer.writerow(compar)\n",
        "\n",
        "        #lookup_list.append(possible_companies) #for testing\n",
        "\n",
        "#always close your file!        \n",
        "csvfile.close()\n"
      ]
    },
    {
      "cell_type": "code",
      "source": [
        "\n",
        "###################################\n",
        "# \n",
        "# At this point, you will want to stop and review the 'name_matches.csv' file output from\n",
        "# Step 3. There will be lots of forms of a company and some items not found. You will need to \n",
        "# decide which version of the company name you want to use in the next section and\n",
        "# you may want to look up the ones 'not found' on the SEC Edgar website to see if \n",
        "# there is actually a match you want to use.\n",
        "#\n",
        "###################################"
      ],
      "metadata": {
        "id": "3PfnA7fvydVr"
      },
      "id": "3PfnA7fvydVr",
      "execution_count": null,
      "outputs": []
    },
    {
      "cell_type": "markdown",
      "source": [
        "Part B. Find company CIKs from a list of companies in a CSV file."
      ],
      "metadata": {
        "id": "vYK9nTAGx2NB"
      },
      "id": "vYK9nTAGx2NB"
    },
    {
      "cell_type": "code",
      "source": [
        "## PART B. STEP 1. - IF USING EXTERNAL FILE AND SKIPPING SEC COMPANY MATCHING IN PART A\n",
        "# OR USING CLEANED OUTPUT FROM PART A. STEP 3.\n",
        "\n",
        "# CREATE COMPANY LIST FROM KNOWN SEC MATCHES FILE\n",
        "# Use this block of code to ingest a file with known SEC name matches for further processing with \n",
        "# the GET CIK WITH EXACT MATCH.\n",
        "# This is good if there were questionable entries from the FIND COMPANY NAME results\n",
        "# that needed to be cleaned prior to finding the CIKs OR if a user already \n",
        "# has the verified names.\n",
        "lookup_list = []\n",
        "with open(\"SEC_companies.csv\", 'r') as file:\n",
        "    csvreader = csv.reader(file)\n",
        "    header = next(csvreader)\n",
        "    for row in csvreader:\n",
        "        lookup_list.append(row)\n",
        "print(header)\n",
        "print(lookup_list)"
      ],
      "metadata": {
        "id": "idtUZoC6ERL1"
      },
      "id": "idtUZoC6ERL1",
      "execution_count": null,
      "outputs": []
    },
    {
      "cell_type": "code",
      "execution_count": null,
      "id": "e2007f80",
      "metadata": {
        "id": "e2007f80"
      },
      "outputs": [],
      "source": [
        "# PART B. OPTIONAL FILE IMPORT TESTING BLOCK\n",
        "# take a look at the list to see the format\n",
        "# print(lookup_list[:20])\n",
        "\n",
        "# check the number of company names in the list\n",
        "# print(len(lookup_list))"
      ]
    },
    {
      "cell_type": "code",
      "execution_count": null,
      "id": "a0bea44d",
      "metadata": {
        "id": "a0bea44d"
      },
      "outputs": [],
      "source": [
        "# PART B. STEP 1.2 - OPTIONAL TEST COMPANY LIST  \n",
        "# create a smaller list for testing. \n",
        "# NOTE: If there is a large list of companies, you may want to break it up into \n",
        "# several smaller lists and run the script several times. This will execute faster. \n",
        "# Also probably won't piss of the SEC as much. ;)\n",
        "\n",
        "#lookup2 = lookup_list[:2]\n",
        "\n",
        "#take a look at the list to see the format\n",
        "#print(lookup2)"
      ]
    },
    {
      "cell_type": "code",
      "execution_count": null,
      "id": "ea7382cd",
      "metadata": {
        "id": "ea7382cd"
      },
      "outputs": [],
      "source": [
        "# PART B. STEP 2 \n",
        "# CREATE UNPACKED LIST OF COMPANIES FOR LOOKUP\n",
        "\n",
        "# unpack the list of lists to create a list of strings for the search at Edgar\n",
        "# NOTE: change the variable name to point to list you are using, eg, if you \n",
        "# are using the full list from FIND COMPANY NAME, use 'lookup_list'. \n",
        "# If you are using TEST COMPANY LIST use 'lookup2'.\n",
        "\n",
        "lookup3 = [company for sublist in lookup_list for company in sublist]\n",
        "print(lookup3)"
      ]
    },
    {
      "cell_type": "code",
      "source": [
        "##########################################\n",
        "# ########### STOP ######################\n",
        "# For the next part, select *either* STEP 3 or STEP 3.1.\n",
        "# Decision is based upon input given in PART B STEP 1.\n",
        "#\n",
        "# If you started at PART B with your own file with company names and did not do PART A for \n",
        "# the EXACT SEC match, then skip to STEP 3.1.\n",
        "#\n",
        "# If you used cleaned output from PART A, continue to STEP 3.\n",
        "#########################################"
      ],
      "metadata": {
        "id": "9p57y6JS3flB"
      },
      "id": "9p57y6JS3flB",
      "execution_count": null,
      "outputs": []
    },
    {
      "cell_type": "code",
      "source": [
        "## # PART B. STEP 3.  \n",
        "# GET CIK WITH EXACT MATCH\n",
        "#\n",
        "#  Use this code if you used the CREATE COMPANY LIST FROM KNOWN SEC MATCHES FILE\n",
        "#  in PART B. STEP 1. \n",
        "#  Uses the output from PART B. STEP 2 \n",
        "#\n",
        "\n",
        "field_names2 = ['SEC_company','CIK']\n",
        "#create a CSV file for the ouput\n",
        "with open('name_cik_matches.csv', 'a') as csvfile:\n",
        "      writer = csv.writer(csvfile)\n",
        "      writer.writerow(field_names2)\n",
        "\n",
        "      for company in lookup3:\n",
        "          compar = []  \n",
        "          compar.append(company)\n",
        "          if company == 'not found':\n",
        "            cik = ''\n",
        "            compar.append(cik)\n",
        "          else: \n",
        "            cik = edgar.get_cik_by_company_name(company)\n",
        "              #print(company) ##for testing\n",
        "              #print(len(possible_companies)) ##for testing\n",
        "            compar.append(cik)\n",
        "            #print(compar) ## use for testing to view output\n",
        "          writer.writerow(compar)\n",
        "\n",
        "              \n",
        "        \n",
        "#always close your file!        \n",
        "csvfile.close()\n",
        "\n"
      ],
      "metadata": {
        "id": "G-5QTLvyeE09"
      },
      "id": "G-5QTLvyeE09",
      "execution_count": null,
      "outputs": []
    },
    {
      "cell_type": "code",
      "source": [
        "#######################################\n",
        "# Congrats! \n",
        "# Your file is now ready to be used with part 2 of this script, Part_2_sec_form_d_lookup.ipynb.\n",
        "# #############################################"
      ],
      "metadata": {
        "id": "eSdRF46J5cc-"
      },
      "id": "eSdRF46J5cc-",
      "execution_count": null,
      "outputs": []
    },
    {
      "cell_type": "code",
      "execution_count": null,
      "id": "b5e0f8a3",
      "metadata": {
        "scrolled": true,
        "id": "b5e0f8a3"
      },
      "outputs": [],
      "source": [
        "# ## OPTIONAL PART B. STEP 3.1.  \n",
        "# GET CIKs WITH FUZZY MATCH\n",
        "# create a list of field names for the CSV header row\n",
        "# Use this if you don't want to do the SEC EXACT MATCHING in PART A. Your results\n",
        "# may not be as good and you may have errors. \n",
        "# Uses output from PART B. STEP 1 and STEP 2 as input.\n",
        "\n",
        "# For each item in the list of official company names, use the  \n",
        "# .match_company_by_company_name method of Edgar to query the Edgar database.\n",
        "# Returns a Dictionary with 3 values: matched company name, cik, match score.\n",
        "# 'top' attribute can be set to return a certain number of matches for each name in the list.\n",
        "# set to 1 here since we have the official names from Edgar.\n",
        "# NOTE: There are some issues with name matching for names that have commas. It looks like the fuzzy\n",
        "# matching will break up strings if it finds a match on the first part of the word\n",
        "# and then searchs the rest as a separate entity. \n",
        "\n",
        "# Parameters that you can change:\n",
        "#    field_names - you can set your own, but there must be 3\n",
        "#    top - the number of possible matches for the name you gave\n",
        "\n",
        "field_names = ['company_name', 'cik', 'score']\n",
        "\n",
        "#create a CSV file for the ouput\n",
        "with open('name_matches_fuzzy.csv', 'a') as csvfile:\n",
        "    writer = csv.DictWriter(csvfile, fieldnames=field_names)\n",
        "    writer.writeheader()\n",
        "\n",
        "\n",
        "    for comp in lookup3: \n",
        "        #print(comp)\n",
        "        possible_match = edgar.match_company_by_company_name(comp, top=3)\n",
        "        writer.writerows(possible_match)\n",
        "        \n",
        "        \n",
        "#always close your file!        \n",
        "csvfile.close()\n",
        "\n",
        "\n"
      ]
    },
    {
      "cell_type": "code",
      "source": [
        "#######################################\n",
        "# Congrats! \n",
        "# Your file is now ready to be used with part 2 of this script, Part_2_sec_form_d_lookup.ipynb.\n",
        "# You may want to look over the output first before plunging in\n",
        "# #############################################"
      ],
      "metadata": {
        "id": "IFh0Miut5vB9"
      },
      "id": "IFh0Miut5vB9",
      "execution_count": null,
      "outputs": []
    }
  ],
  "metadata": {
    "kernelspec": {
      "display_name": "Python 3 (ipykernel)",
      "language": "python",
      "name": "python3"
    },
    "language_info": {
      "codemirror_mode": {
        "name": "ipython",
        "version": 3
      },
      "file_extension": ".py",
      "mimetype": "text/x-python",
      "name": "python",
      "nbconvert_exporter": "python",
      "pygments_lexer": "ipython3",
      "version": "3.9.2"
    },
    "colab": {
      "provenance": []
    }
  },
  "nbformat": 4,
  "nbformat_minor": 5
}